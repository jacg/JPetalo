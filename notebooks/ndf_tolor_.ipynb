{
 "cells": [
  {
   "cell_type": "markdown",
   "id": "46e82099-c82a-4157-b39f-f6f5c21f5720",
   "metadata": {},
   "source": [
    "# NEMA Photoelectric"
   ]
  },
  {
   "cell_type": "markdown",
   "id": "ab665d68-ee4d-444c-a09e-3ae2a446a221",
   "metadata": {},
   "source": [
    "- Photoelectric interaction in PETALO"
   ]
  },
  {
   "cell_type": "code",
   "execution_count": 1,
   "id": "357899e1-ff44-4724-a781-70fec70134bb",
   "metadata": {},
   "outputs": [],
   "source": [
    "import Pkg"
   ]
  },
  {
   "cell_type": "code",
   "execution_count": 2,
   "id": "cbb2dd57-ea2f-4c22-b368-5e33da6fda7d",
   "metadata": {},
   "outputs": [],
   "source": [
    "Pkg.add.([\"HTTP\", \"Plots\", \"DataFrames\", \"HDF5\",\"DrWatson\", \"StatsBase\", \"PhysicalConstants\"]);"
   ]
  },
  {
   "cell_type": "code",
   "execution_count": 3,
   "id": "958f004d-429d-4832-a998-aeafe5130854",
   "metadata": {},
   "outputs": [],
   "source": [
    "Pkg.add.([\"Test\"]);"
   ]
  },
  {
   "cell_type": "code",
   "execution_count": 4,
   "id": "275561a1-fad1-4048-a2fa-c6cdafce0384",
   "metadata": {},
   "outputs": [],
   "source": [
    "Pkg.add.([\"VegaLite\",\"VegaDatasets\"]);"
   ]
  },
  {
   "cell_type": "code",
   "execution_count": 5,
   "id": "3a09c7a4-deba-4b97-999f-49338f210ada",
   "metadata": {},
   "outputs": [
    {
     "data": {
      "text/plain": [
       "2-element Vector{Nothing}:\n",
       " nothing\n",
       " nothing"
      ]
     },
     "execution_count": 5,
     "metadata": {},
     "output_type": "execute_result"
    }
   ],
   "source": [
    "Pkg.add.([\"LsqFit\",\"GLM\"])"
   ]
  },
  {
   "cell_type": "code",
   "execution_count": 6,
   "id": "08f3d1fb-a4d5-4449-8962-45d7558fe3af",
   "metadata": {},
   "outputs": [],
   "source": [
    "Pkg.add(\"Distributions\") "
   ]
  },
  {
   "cell_type": "code",
   "execution_count": 7,
   "id": "02969dad-247d-4989-a110-1715bd5bbf65",
   "metadata": {},
   "outputs": [],
   "source": [
    "using Distributions"
   ]
  },
  {
   "cell_type": "code",
   "execution_count": 8,
   "id": "592867b0-0fb3-413e-b5d6-e811add992de",
   "metadata": {},
   "outputs": [],
   "source": [
    "using LsqFit\n",
    "using GLM"
   ]
  },
  {
   "cell_type": "code",
   "execution_count": 9,
   "id": "0312b41b-c530-4b8d-9461-d8cdf27cfacc",
   "metadata": {},
   "outputs": [],
   "source": [
    "using HTTP\n",
    "using Plots\n",
    "using VegaLite\n",
    "using VegaDatasets\n",
    "using DataFrames\n",
    "using HDF5\n",
    "using DrWatson\n",
    "using Test\n",
    "using PhysicalConstants\n",
    "using PhysicalConstants.CODATA2018\n",
    "using Unitful"
   ]
  },
  {
   "cell_type": "code",
   "execution_count": 10,
   "id": "68de8069-6a68-45a4-aa30-96750d770831",
   "metadata": {},
   "outputs": [],
   "source": [
    "using Glob\n",
    "using CSV"
   ]
  },
  {
   "cell_type": "code",
   "execution_count": 11,
   "id": "870daca0-889b-4e68-a374-ab5f1caf0d1a",
   "metadata": {},
   "outputs": [],
   "source": [
    "using Statistics\n",
    "using StatsBase\n",
    "using Printf"
   ]
  },
  {
   "cell_type": "code",
   "execution_count": 12,
   "id": "e9926539-d86a-4ccd-811b-7761854d7715",
   "metadata": {},
   "outputs": [],
   "source": [
    "using Logging"
   ]
  },
  {
   "cell_type": "code",
   "execution_count": 13,
   "id": "335c2227-49d3-488f-9752-ac53f47720cf",
   "metadata": {},
   "outputs": [],
   "source": [
    "@quickactivate \"JPetalo\""
   ]
  },
  {
   "cell_type": "code",
   "execution_count": 14,
   "id": "eca05b5c-3eb3-4833-811b-bcd0b602c15a",
   "metadata": {},
   "outputs": [
    {
     "data": {
      "text/plain": [
       "\"/Users/jj/JuliaProjects/JPetalo/notebooks\""
      ]
     },
     "execution_count": 14,
     "metadata": {},
     "output_type": "execute_result"
    }
   ],
   "source": [
    "pwd()"
   ]
  },
  {
   "cell_type": "code",
   "execution_count": 15,
   "id": "cb1a0a5c-4034-4102-a3d6-51003cb0c288",
   "metadata": {},
   "outputs": [
    {
     "data": {
      "text/plain": [
       "\"/Users/jj/JuliaProjects/JPetalo/data\""
      ]
     },
     "execution_count": 15,
     "metadata": {},
     "output_type": "execute_result"
    }
   ],
   "source": [
    "datadir()"
   ]
  },
  {
   "cell_type": "code",
   "execution_count": 16,
   "id": "06032e54-4ba5-4263-9b16-28d623af110b",
   "metadata": {},
   "outputs": [
    {
     "data": {
      "text/plain": [
       "\"/Users/jj/JuliaProjects/JPetalo/data/nema3f\""
      ]
     },
     "execution_count": 16,
     "metadata": {},
     "output_type": "execute_result"
    }
   ],
   "source": [
    "datadir(\"nema3f\")"
   ]
  },
  {
   "cell_type": "code",
   "execution_count": null,
   "id": "971f94b3-790a-4111-9456-0957aa0f59d2",
   "metadata": {},
   "outputs": [],
   "source": []
  },
  {
   "cell_type": "code",
   "execution_count": 17,
   "id": "a9a72f49-128c-4b2a-b960-fd9d2969a9d0",
   "metadata": {},
   "outputs": [
    {
     "data": {
      "text/plain": [
       "\"/Users/jj/JuliaProjects/JPetalo/src\""
      ]
     },
     "execution_count": 17,
     "metadata": {},
     "output_type": "execute_result"
    }
   ],
   "source": [
    "srcdir()"
   ]
  },
  {
   "cell_type": "code",
   "execution_count": 18,
   "id": "b6fe6411-426c-4da2-ac15-36f6fcf3b024",
   "metadata": {},
   "outputs": [
    {
     "data": {
      "text/plain": [
       "Main.JPetalo"
      ]
     },
     "execution_count": 18,
     "metadata": {},
     "output_type": "execute_result"
    }
   ],
   "source": [
    "include(srcdir(\"jpetalo.jl\"))"
   ]
  },
  {
   "cell_type": "code",
   "execution_count": 19,
   "id": "d3638e0e-4608-4bce-bfc4-2c4a89427c83",
   "metadata": {},
   "outputs": [],
   "source": [
    "import Unitful:\n",
    "    nm, μm, mm, cm, m, km, inch, ft, mi,\n",
    "    ac,\n",
    "    mg, g, kg,\n",
    "    Ra, °F, °C, K,\n",
    "    rad, °,\n",
    "    ns, μs, ms, ps, s, minute, hr, d, yr, Hz,\n",
    "    eV,\n",
    "    μJ, mJ, J,\n",
    "\tmW, μW, W,\n",
    "    A, N, mol, mmol, V, L, mL, μL, M"
   ]
  },
  {
   "cell_type": "code",
   "execution_count": 20,
   "id": "dd8dff0d-1c1a-43e8-ac1f-d7cb3065bfd0",
   "metadata": {},
   "outputs": [
    {
     "data": {
      "text/plain": [
       "loglevel (generic function with 1 method)"
      ]
     },
     "execution_count": 20,
     "metadata": {},
     "output_type": "execute_result"
    }
   ],
   "source": [
    "function loglevel(log)\n",
    "    if log == \"Debug\"\n",
    "        logger = SimpleLogger(stdout, Logging.Debug)\n",
    "    elseif log ==\"Info\"\n",
    "        logger = SimpleLogger(stdout, Logging.Info)\n",
    "    else\n",
    "        logger = SimpleLogger(stdout, Logging.Warn)\n",
    "    end\n",
    "    old_logger = global_logger(logger)\n",
    "end"
   ]
  },
  {
   "cell_type": "markdown",
   "id": "a9bce51b-2dfc-4f0d-8ce2-b8c8bb54fab8",
   "metadata": {},
   "source": [
    "# Characterization of PETALO"
   ]
  },
  {
   "cell_type": "code",
   "execution_count": 21,
   "id": "1c3450cc-f92e-4580-aaea-216e44472640",
   "metadata": {},
   "outputs": [
    {
     "data": {
      "text/plain": [
       "Base.CoreLogging.SimpleLogger(IJulia.IJuliaStdio{Base.PipeEndpoint}(IOContext(Base.PipeEndpoint(RawFD(44) open, 0 bytes waiting))), Info, Dict{Any, Int64}())"
      ]
     },
     "execution_count": 21,
     "metadata": {},
     "output_type": "execute_result"
    }
   ],
   "source": [
    "loglevel(\"Info\")"
   ]
  },
  {
   "cell_type": "markdown",
   "id": "bc8dc8a5-4ae7-4edc-9ae0-98108e912680",
   "metadata": {},
   "source": [
    "### Read a summary data frame with photoelectric interactions"
   ]
  },
  {
   "cell_type": "code",
   "execution_count": 34,
   "id": "e8fe7881-9be0-4d34-ba8a-67358adbdc95",
   "metadata": {},
   "outputs": [],
   "source": [
    "drx = datadir(\"nema3df\")\n",
    "input = string(drx,\"/nemadf_f600_pde_03_sigmatof_85ps_kmeans_phot.csv\")\n",
    "evtdf = DataFrame(CSV.File(input));"
   ]
  },
  {
   "cell_type": "code",
   "execution_count": 35,
   "id": "d5f2a313-e2b6-4345-82b8-94b1a2ab8300",
   "metadata": {},
   "outputs": [
    {
     "name": "stdout",
     "output_type": "stream",
     "text": [
      "┌ Info: [\"nsipm1\", \"nsipm2\", \"q1\", \"q2\", \"r1\", \"r1q\", \"r2\", \"r2q\", \"t1\", \"t2\", \"ta1\", \"ta2\", \"tr1\", \"tr2\", \"ux\", \"uy\", \"uz\", \"x1\", \"x2\", \"xb1\", \"xb2\", \"xr1\", \"xr2\", \"xs\", \"xt1\", \"xt2\", \"y1\", \"y2\", \"yb1\", \"yb2\", \"yr1\", \"yr2\", \"ys\", \"yt1\", \"yt2\", \"z1\", \"z2\", \"zb1\", \"zb2\", \"zr1\", \"zr2\", \"zs\", \"zt1\", \"zt2\"]\n",
      "└ @ Main In[35]:1\n"
     ]
    }
   ],
   "source": [
    "@info names(evtdf)"
   ]
  },
  {
   "cell_type": "code",
   "execution_count": 24,
   "id": "cb77c85a-605c-4ccc-8989-d3503c422229",
   "metadata": {},
   "outputs": [
    {
     "data": {
      "text/plain": [
       "setunits (generic function with 1 method)"
      ]
     },
     "execution_count": 24,
     "metadata": {},
     "output_type": "execute_result"
    }
   ],
   "source": [
    "function setunits(df::DataFrame)\n",
    "    DataFrame(\n",
    "        nsipm1 = df.nsipm1,     # number of sipms in cluster\n",
    "        nsipm2 = df.nsipm2,\n",
    "        \n",
    "        q1 = df.q1,             # q in pes\n",
    "        q2 = df.q2,\n",
    "        \n",
    "        r1  = df.r1  * mm,      # best radius\n",
    "        r1q = df.r1q * mm,      # raw radius from q \n",
    "        r2  = df.r2  * mm,\n",
    "        r2q = df.r2q * mm,\n",
    "        \n",
    "        t1  = df.t1  * ns,      # time true\n",
    "        t2  = df.t2  * ns,\n",
    "        ta1 = df.ta1 * ns,      # average (over 5 mimimum in t)\n",
    "        ta2 = df.ta2 * ns,\n",
    "        tr1 = df.tr1 * ns,      # reco (smeared take minimum)\n",
    "        tr2 = df.tr2 * ns,\n",
    "        \n",
    "        ux = df.ux,             # unit direction vector of gammas \n",
    "        uy = df.uy,\n",
    "        uz = df.uz,\n",
    "        \n",
    "        x1  = df.x1  * mm,      # best reco position\n",
    "        x2  = df.x2  * mm,\n",
    "        xb1 = df.xb1 * mm,      # position of sipm that gives time stamp\n",
    "        xb2 = df.xb2 * mm,\n",
    "        xr1 = df.xr1 * mm,      # reco position\n",
    "        xr2 = df.xr2 * mm,\n",
    "        xs  = df.xs  * mm,      # position of source\n",
    "        xt1 = df.xt1 * mm,      # true position\n",
    "        xt2 = df.xt2 * mm,\n",
    "        \n",
    "        y1  = df.y1  * mm,      \n",
    "        y2  = df.y2  * mm,\n",
    "        yb1 = df.yb1 * mm,      \n",
    "        yb2 = df.yb2 * mm,\n",
    "        yr1 = df.yr1 * mm,      \n",
    "        yr2 = df.yr2 * mm,\n",
    "        ys  = df.ys  * mm,\n",
    "        yt1 = df.yt1 * mm,      \n",
    "        yt2 = df.yt2 * mm,\n",
    "        \n",
    "        z1  = df.z1  * mm,      \n",
    "        z2  = df.z2  * mm,\n",
    "        zb1 = df.zb1 * mm,      \n",
    "        zb2 = df.zb2 * mm,\n",
    "        zr1 = df.zr1 * mm,      \n",
    "        zr2 = df.zr2 * mm,\n",
    "        zs  = df.zs  * mm,\n",
    "        zt1 = df.zt1 * mm,      \n",
    "        zt2 = df.zt2 * mm,\n",
    "        \n",
    "    )\n",
    "end"
   ]
  },
  {
   "cell_type": "code",
   "execution_count": 36,
   "id": "d682b8e9-ae1d-47b8-baf9-26617ca8638b",
   "metadata": {},
   "outputs": [],
   "source": [
    "evtdfu = setunits(evtdf);"
   ]
  },
  {
   "cell_type": "code",
   "execution_count": 37,
   "id": "9420f80e-9372-43f2-b670-f2b24437af2b",
   "metadata": {},
   "outputs": [
    {
     "data": {
      "text/html": [
       "<div class=\"data-frame\"><p>5 rows × 44 columns (omitted printing of 36 columns)</p><table class=\"data-frame\"><thead><tr><th></th><th>nsipm1</th><th>nsipm2</th><th>q1</th><th>q2</th><th>r1</th><th>r1q</th><th>r2</th><th>r2q</th></tr><tr><th></th><th title=\"Int64\">Int64</th><th title=\"Int64\">Int64</th><th title=\"Float64\">Float64</th><th title=\"Float64\">Float64</th><th title=\"Quantity{Float64, 𝐋, Unitful.FreeUnits{(mm,), 𝐋, nothing}}\">Quantit…</th><th title=\"Quantity{Float64, 𝐋, Unitful.FreeUnits{(mm,), 𝐋, nothing}}\">Quantit…</th><th title=\"Quantity{Float64, 𝐋, Unitful.FreeUnits{(mm,), 𝐋, nothing}}\">Quantit…</th><th title=\"Quantity{Float64, 𝐋, Unitful.FreeUnits{(mm,), 𝐋, nothing}}\">Quantit…</th></tr></thead><tbody><tr><th>1</th><td>241</td><td>160</td><td>2095.0</td><td>2459.8</td><td>368.295 mm</td><td>368.565 mm</td><td>381.841 mm</td><td>378.415 mm</td></tr><tr><th>2</th><td>260</td><td>260</td><td>1876.4</td><td>1952.5</td><td>359.837 mm</td><td>362.663 mm</td><td>363.159 mm</td><td>364.717 mm</td></tr><tr><th>3</th><td>254</td><td>247</td><td>1807.1</td><td>1819.5</td><td>359.066 mm</td><td>360.792 mm</td><td>360.022 mm</td><td>361.127 mm</td></tr><tr><th>4</th><td>211</td><td>255</td><td>2163.7</td><td>2044.6</td><td>372.581 mm</td><td>370.42 mm</td><td>365.835 mm</td><td>367.204 mm</td></tr><tr><th>5</th><td>244</td><td>225</td><td>1934.4</td><td>2057.2</td><td>364.667 mm</td><td>364.229 mm</td><td>369.897 mm</td><td>367.544 mm</td></tr></tbody></table></div>"
      ],
      "text/latex": [
       "\\begin{tabular}{r|ccccccccc}\n",
       "\t& nsipm1 & nsipm2 & q1 & q2 & r1 & r1q & r2 & r2q & \\\\\n",
       "\t\\hline\n",
       "\t& Int64 & Int64 & Float64 & Float64 & Quantit… & Quantit… & Quantit… & Quantit… & \\\\\n",
       "\t\\hline\n",
       "\t1 & 241 & 160 & 2095.0 & 2459.8 & 368.295 mm & 368.565 mm & 381.841 mm & 378.415 mm & $\\dots$ \\\\\n",
       "\t2 & 260 & 260 & 1876.4 & 1952.5 & 359.837 mm & 362.663 mm & 363.159 mm & 364.717 mm & $\\dots$ \\\\\n",
       "\t3 & 254 & 247 & 1807.1 & 1819.5 & 359.066 mm & 360.792 mm & 360.022 mm & 361.127 mm & $\\dots$ \\\\\n",
       "\t4 & 211 & 255 & 2163.7 & 2044.6 & 372.581 mm & 370.42 mm & 365.835 mm & 367.204 mm & $\\dots$ \\\\\n",
       "\t5 & 244 & 225 & 1934.4 & 2057.2 & 364.667 mm & 364.229 mm & 369.897 mm & 367.544 mm & $\\dots$ \\\\\n",
       "\\end{tabular}\n"
      ],
      "text/plain": [
       "\u001b[1m5×44 DataFrame\u001b[0m\n",
       "\u001b[1m Row \u001b[0m│\u001b[1m nsipm1 \u001b[0m\u001b[1m nsipm2 \u001b[0m\u001b[1m q1      \u001b[0m\u001b[1m q2      \u001b[0m\u001b[1m r1         \u001b[0m\u001b[1m r1q        \u001b[0m\u001b[1m r2         \u001b[0m\u001b[1m r\u001b[0m ⋯\n",
       "\u001b[1m     \u001b[0m│\u001b[90m Int64  \u001b[0m\u001b[90m Int64  \u001b[0m\u001b[90m Float64 \u001b[0m\u001b[90m Float64 \u001b[0m\u001b[90m Quantity…  \u001b[0m\u001b[90m Quantity…  \u001b[0m\u001b[90m Quantity…  \u001b[0m\u001b[90m Q\u001b[0m ⋯\n",
       "─────┼──────────────────────────────────────────────────────────────────────────\n",
       "   1 │    241     160   2095.0   2459.8  368.295 mm  368.565 mm  381.841 mm  3 ⋯\n",
       "   2 │    260     260   1876.4   1952.5  359.837 mm  362.663 mm  363.159 mm  3\n",
       "   3 │    254     247   1807.1   1819.5  359.066 mm  360.792 mm  360.022 mm  3\n",
       "   4 │    211     255   2163.7   2044.6  372.581 mm   370.42 mm  365.835 mm  3\n",
       "   5 │    244     225   1934.4   2057.2  364.667 mm  364.229 mm  369.897 mm  3 ⋯\n",
       "\u001b[36m                                                              37 columns omitted\u001b[0m"
      ]
     },
     "execution_count": 37,
     "metadata": {},
     "output_type": "execute_result"
    }
   ],
   "source": [
    "first(evtdfu, 5)"
   ]
  },
  {
   "cell_type": "code",
   "execution_count": 38,
   "id": "d483886f-e4fa-4869-b680-bfc53345b374",
   "metadata": {},
   "outputs": [],
   "source": [
    "@enum Dtsel dtfirst dtminimum dtaverage"
   ]
  },
  {
   "cell_type": "code",
   "execution_count": 39,
   "id": "0dc97bae-61d2-4e78-af9f-8412f207b3cb",
   "metadata": {},
   "outputs": [],
   "source": [
    "@enum Possel postrue posreco"
   ]
  },
  {
   "cell_type": "code",
   "execution_count": 40,
   "id": "5fcc7924-8b1c-4cb5-9dc8-2602e3c9c2c0",
   "metadata": {},
   "outputs": [
    {
     "data": {
      "text/plain": [
       "deltatime (generic function with 2 methods)"
      ]
     },
     "execution_count": 40,
     "metadata": {},
     "output_type": "execute_result"
    }
   ],
   "source": [
    "function deltatime(df::DataFrame, t::Dtsel=dtfirst)\n",
    "    if t     == dtminimum\n",
    "        return  df.tr1 - df.tr2\n",
    "    elseif t == dtaverage\n",
    "        return df.ta1 - df.ta2\n",
    "    else\n",
    "        return df.t1 - df.t2\n",
    "\n",
    "    end\n",
    "end"
   ]
  },
  {
   "cell_type": "code",
   "execution_count": 47,
   "id": "3fda6ac2-e7b5-48a4-985a-554d85a88f4f",
   "metadata": {},
   "outputs": [
    {
     "data": {
      "text/plain": [
       "cdoi (generic function with 3 methods)"
      ]
     },
     "execution_count": 47,
     "metadata": {},
     "output_type": "execute_result"
    }
   ],
   "source": [
    "function cdoi(df::DataFrame, position::Possel=postrue, nlxe::Number=1.6)\n",
    "    clxe = SpeedOfLightInVacuum/nlxe\n",
    "\n",
    "    if position == posreco\n",
    "        dxrb1 = [JPetalo.dxyz([df.x1[i], df.y1[i], df.z1[i]],\n",
    "                              [df.xb1[i], df.yb1[i], df.zb1[i]]) for i in 1:nrow(df)]\n",
    "\n",
    "        dxrb2 = [JPetalo.dxyz([df.x2[i], df.y2[i], df.z2[i]],\n",
    "                              [df.xb2[i], df.yb2[i], df.zb2[i]]) for i in 1:nrow(df)]\n",
    "    else\n",
    "        dxrb1 = [JPetalo.dxyz([df.xt1[i], df.yt1[i], df.zt1[i]],\n",
    "                              [df.xb1[i], df.yb1[i], df.zb1[i]]) for i in 1:nrow(df)]\n",
    "\n",
    "        dxrb2 = [JPetalo.dxyz([df.xt2[i], df.yt2[i], df.zt2[i]],\n",
    "                              [df.xb2[i], df.yb2[i], df.zb2[i]]) for i in 1:nrow(df)]\n",
    "\n",
    "    end\n",
    "    return (dxrb1 - dxrb2)/clxe\n",
    "end"
   ]
  },
  {
   "cell_type": "code",
   "execution_count": 42,
   "id": "92ef3ec4-a782-4248-aca1-a695ea2bf795",
   "metadata": {},
   "outputs": [],
   "source": [
    "struct MlemLor\n",
    "    dx::Float32\n",
    "    x1::Float32\n",
    "    y1::Float32\n",
    "    z1::Float32\n",
    "    x2::Float32\n",
    "    y2::Float32\n",
    "    z2::Float32\n",
    "end"
   ]
  },
  {
   "cell_type": "code",
   "execution_count": 43,
   "id": "4c75fc1a-4759-4a56-b89e-40649bcaa558",
   "metadata": {},
   "outputs": [
    {
     "data": {
      "text/plain": [
       "dftolor (generic function with 4 methods)"
      ]
     },
     "execution_count": 43,
     "metadata": {},
     "output_type": "execute_result"
    }
   ],
   "source": [
    "function dftolor(df::DataFrame, t::Dtsel=dtfirst, position::Possel=postrue, nlxe::Number=1.6)\n",
    "\n",
    "    function tof32(l)\n",
    "        Float32.(l/mm)\n",
    "    end\n",
    "\n",
    "    dt12  = deltatime(df,t)\n",
    "    dtdoi = cdoi(df,position)\n",
    "    # compute dx from time and speed of light, ensure that the result is in mm\n",
    "    dx    = uconvert.(mm, (dt12 - dtdoi) * SpeedOfLightInVacuum)\n",
    "\n",
    "    if position == postrue\n",
    "        x1, x2, y1, y2, z1, z2 = df.xt1, df.xt2, df.yt1, df.yt2, df.zt1, df.zt2\n",
    "    else\n",
    "        x1, x2, y1, y2, z1, z2 = df.x1,  df.x2,  df.y1,  df.y2,  df.z1,  df.z2\n",
    "    end\n",
    "\n",
    "    MlemLor.(tof32(dx),tof32(x1),tof32(y1),tof32(z1), tof32(x2), tof32(y2), tof32(z2))\n",
    "end\n"
   ]
  },
  {
   "cell_type": "code",
   "execution_count": 44,
   "id": "abc4e113-7676-4f61-997c-2851babd3e81",
   "metadata": {},
   "outputs": [],
   "source": [
    "dt12 = deltatime(evtdfu,dtfirst);"
   ]
  },
  {
   "cell_type": "code",
   "execution_count": 45,
   "id": "54246a7e-9ecb-4721-af64-4a2fb2a15455",
   "metadata": {},
   "outputs": [
    {
     "data": {
      "text/plain": [
       "32543"
      ]
     },
     "execution_count": 45,
     "metadata": {},
     "output_type": "execute_result"
    }
   ],
   "source": [
    "length(dt12)"
   ]
  },
  {
   "cell_type": "code",
   "execution_count": 48,
   "id": "2d257766-8b0e-46d7-9d8f-4f1da176f970",
   "metadata": {},
   "outputs": [],
   "source": [
    "dtdoi = cdoi(evtdfu,postrue);"
   ]
  },
  {
   "cell_type": "code",
   "execution_count": 49,
   "id": "b0e5d19a-d8b2-46b5-908a-46a4b2d92749",
   "metadata": {},
   "outputs": [
    {
     "data": {
      "text/plain": [
       "32543"
      ]
     },
     "execution_count": 49,
     "metadata": {},
     "output_type": "execute_result"
    }
   ],
   "source": [
    "length(dtdoi)"
   ]
  },
  {
   "cell_type": "code",
   "execution_count": 50,
   "id": "edcc430c-18a9-4f6b-bb15-c9177b63fa55",
   "metadata": {},
   "outputs": [
    {
     "data": {
      "text/plain": [
       "write_lors_hdf5 (generic function with 1 method)"
      ]
     },
     "execution_count": 50,
     "metadata": {},
     "output_type": "execute_result"
    }
   ],
   "source": [
    "function write_lors_hdf5(filename, mlor)\n",
    "\n",
    "    function set_datatype(::Type{MlemLor})\n",
    "        dtype = HDF5.h5t_create(HDF5.H5T_COMPOUND, sizeof(MlemLor))\n",
    "        HDF5.h5t_insert(dtype, \"dx\", fieldoffset(MlemLor, 1),\n",
    "                        datatype(Float32))\n",
    "        HDF5.h5t_insert(dtype, \"x1\", fieldoffset(MlemLor, 2),\n",
    "                        datatype(Float32))\n",
    "        HDF5.h5t_insert(dtype, \"y1\", fieldoffset(MlemLor, 3),\n",
    "                        datatype(Float32))\n",
    "        HDF5.h5t_insert(dtype, \"z1\", fieldoffset(MlemLor, 4),\n",
    "                        datatype(Float32))\n",
    "        HDF5.h5t_insert(dtype, \"x2\", fieldoffset(MlemLor, 5),\n",
    "                        datatype(Float32))\n",
    "        HDF5.h5t_insert(dtype, \"y2\", fieldoffset(MlemLor, 6),\n",
    "                        datatype(Float32))\n",
    "        HDF5.h5t_insert(dtype, \"z2\", fieldoffset(MlemLor, 7),\n",
    "                        datatype(Float32))\n",
    "\n",
    "        HDF5.Datatype(dtype)\n",
    "    end\n",
    "\n",
    "    h5f = JPetalo.h5open(filename, \"w\")\n",
    "\n",
    "    dtype = set_datatype(MlemLor)\n",
    "    dspace = dataspace(mlor)\n",
    "    grp = create_group(h5f, \"true_info\")\n",
    "    dset = create_dataset(grp, \"lors\", dtype, dspace)\n",
    "    write_dataset(dset, dtype, mlor)\n",
    "\n",
    "\n",
    "    close(h5f)\n",
    "end\n"
   ]
  },
  {
   "cell_type": "code",
   "execution_count": 51,
   "id": "e20df602-a2ca-447b-a1c7-fedc5c878041",
   "metadata": {},
   "outputs": [],
   "source": [
    "lortrue = dftolor(evtdfu, dtfirst, postrue);"
   ]
  },
  {
   "cell_type": "code",
   "execution_count": 52,
   "id": "e4a377ea-e7be-42d4-8639-fd6c4108b02c",
   "metadata": {},
   "outputs": [
    {
     "data": {
      "text/plain": [
       "MlemLor(3.4322562f0, 38.4391f0, -366.28372f0, -16.189302f0, -37.79373f0, 379.96616f0, 214.23856f0)"
      ]
     },
     "execution_count": 52,
     "metadata": {},
     "output_type": "execute_result"
    }
   ],
   "source": [
    "lortrue[1]"
   ]
  },
  {
   "cell_type": "code",
   "execution_count": 53,
   "id": "4044861e-606d-4651-a6e4-2e541a045f98",
   "metadata": {},
   "outputs": [],
   "source": [
    "write_lors_hdf5(datadir(\"lors/lortrue.h5\"), lortrue)"
   ]
  },
  {
   "cell_type": "code",
   "execution_count": 91,
   "id": "ffc7f8f9-ecb1-4e69-8f57-27aab2d5ff55",
   "metadata": {},
   "outputs": [
    {
     "data": {
      "text/plain": [
       "xxx (generic function with 1 method)"
      ]
     },
     "execution_count": 91,
     "metadata": {},
     "output_type": "execute_result"
    }
   ],
   "source": [
    "function df_to_mlemlor(ldf::DataFrame)\n",
    "    [JPetalo.MlemLor(ldf.t1[i], ldf.t2[i],\n",
    "                  ldf.x1[i],ldf.y1[i],ldf.z1[i],\n",
    "                  ldf.x2[i],ldf.y2[i],ldf.z2[i]) for i in 1:nrow(ldf)]\n",
    "end"
   ]
  }
 ],
 "metadata": {
  "kernelspec": {
   "display_name": "Julia 1.6.1",
   "language": "julia",
   "name": "julia-1.6"
  },
  "language_info": {
   "file_extension": ".jl",
   "mimetype": "application/julia",
   "name": "julia",
   "version": "1.6.1"
  }
 },
 "nbformat": 4,
 "nbformat_minor": 5
}
